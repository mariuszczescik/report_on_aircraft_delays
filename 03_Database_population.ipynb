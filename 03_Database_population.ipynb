{
 "cells": [
  {
   "cell_type": "markdown",
   "metadata": {},
   "source": [
    " # notebook description\n",
    "In this notebook, I appropriately adapted the data structures from the source files to a format compatible with `Postgres`, and then uploaded them to the server."
   ]
  },
  {
   "cell_type": "code",
   "execution_count": 1,
   "metadata": {},
   "outputs": [],
   "source": [
    "import psycopg2\n",
    "from psycopg2 import connect\n",
    "from sqlalchemy import create_engine\n",
    "from sqlalchemy.engine import URL\n",
    "import pandas as pd"
   ]
  },
  {
   "cell_type": "code",
   "execution_count": 2,
   "metadata": {},
   "outputs": [],
   "source": [
    "username = 'DB_ID'\n",
    "password = 'DB_PASS'\n",
    "host = 'localhost'\n",
    "database = 'airlines'\n",
    "default_database = 'postgres'\n",
    "port = 5432"
   ]
  },
  {
   "cell_type": "code",
   "execution_count": 4,
   "metadata": {},
   "outputs": [],
   "source": [
    "url = URL.create(\n",
    "    \"postgresql+psycopg2\",\n",
    "    database = database,\n",
    "    username=username,\n",
    "    password=password,\n",
    "    host=host,\n",
    "    port=port    \n",
    "    )\n",
    "engine = create_engine(url)"
   ]
  },
  {
   "cell_type": "code",
   "execution_count": 5,
   "metadata": {},
   "outputs": [],
   "source": [
    "def load_raw_data(file_name):\n",
    "    df = pd.read_csv(file_name)\n",
    "    \n",
    "    df.columns = [col.lower() for col in df.columns]\n",
    "    \n",
    "    return df"
   ]
  },
  {
   "cell_type": "code",
   "execution_count": 6,
   "metadata": {},
   "outputs": [
    {
     "data": {
      "text/html": [
       "<div>\n",
       "<style scoped>\n",
       "    .dataframe tbody tr th:only-of-type {\n",
       "        vertical-align: middle;\n",
       "    }\n",
       "\n",
       "    .dataframe tbody tr th {\n",
       "        vertical-align: top;\n",
       "    }\n",
       "\n",
       "    .dataframe thead th {\n",
       "        text-align: right;\n",
       "    }\n",
       "</style>\n",
       "<table border=\"1\" class=\"dataframe\">\n",
       "  <thead>\n",
       "    <tr style=\"text-align: right;\">\n",
       "      <th></th>\n",
       "      <th>manufacture_year</th>\n",
       "      <th>tail_num</th>\n",
       "      <th>number_of_seats</th>\n",
       "    </tr>\n",
       "  </thead>\n",
       "  <tbody>\n",
       "    <tr>\n",
       "      <th>0</th>\n",
       "      <td>1944</td>\n",
       "      <td>N54514</td>\n",
       "      <td>0.0</td>\n",
       "    </tr>\n",
       "    <tr>\n",
       "      <th>1</th>\n",
       "      <td>1945</td>\n",
       "      <td>N1651M</td>\n",
       "      <td>0.0</td>\n",
       "    </tr>\n",
       "    <tr>\n",
       "      <th>2</th>\n",
       "      <td>1953</td>\n",
       "      <td>N100CE</td>\n",
       "      <td>0.0</td>\n",
       "    </tr>\n",
       "    <tr>\n",
       "      <th>3</th>\n",
       "      <td>1953</td>\n",
       "      <td>N141FL</td>\n",
       "      <td>0.0</td>\n",
       "    </tr>\n",
       "    <tr>\n",
       "      <th>4</th>\n",
       "      <td>1953</td>\n",
       "      <td>N151FL</td>\n",
       "      <td>0.0</td>\n",
       "    </tr>\n",
       "  </tbody>\n",
       "</table>\n",
       "</div>"
      ],
      "text/plain": [
       "   manufacture_year tail_num  number_of_seats\n",
       "0              1944   N54514              0.0\n",
       "1              1945   N1651M              0.0\n",
       "2              1953   N100CE              0.0\n",
       "3              1953   N141FL              0.0\n",
       "4              1953   N151FL              0.0"
      ]
     },
     "execution_count": 6,
     "metadata": {},
     "output_type": "execute_result"
    }
   ],
   "source": [
    "# Loading individual files into frames\n",
    "# File paths\n",
    "api_data_path = \"./data/apidata\"\n",
    "aircraft_file_path = f'{api_data_path}/aircraft.csv'\n",
    "airport_list_file_path = f'{api_data_path}/airport_list.csv'\n",
    "airport_weather_file_path = f'{api_data_path}/airport_weather.csv'\n",
    "flight_file_path = f'{api_data_path}/flight.csv'\n",
    "\n",
    "# Loading files\n",
    "aircraft_df = load_raw_data(aircraft_file_path)\n",
    "airport_list_df = load_raw_data(airport_list_file_path)\n",
    "airport_weather_df = load_raw_data(airport_weather_file_path)\n",
    "flight_df = load_raw_data(flight_file_path)\n",
    "\n",
    "aircraft_df.head()"
   ]
  },
  {
   "cell_type": "code",
   "execution_count": 8,
   "metadata": {},
   "outputs": [],
   "source": [
    "# Data export function\n",
    "def export_table_to_db(df, table_name):\n",
    "    print(f\"Loading data into {table_name}...\")\n",
    "\n",
    "    df.reset_index(drop=True, inplace=True)\n",
    "    df.index = df.index + 1\n",
    "\n",
    "    try:\n",
    "        global engine\n",
    "        \n",
    "        df.to_sql(name=table_name, con=engine, if_exists='replace', index=True, index_label='id', chunksize=500)\n",
    "        print(f\"Data successfully loaded into {table_name}.\")\n",
    "    except Exception as e:\n",
    "        print(f\"Failed to load data into {table_name}: {e}\")"
   ]
  },
  {
   "cell_type": "code",
   "execution_count": 9,
   "metadata": {},
   "outputs": [
    {
     "name": "stdout",
     "output_type": "stream",
     "text": [
      "Loading data into aircraft...\n",
      "Data successfully loaded into aircraft.\n",
      "Loading data into aircraft...\n",
      "Data successfully loaded into aircraft.\n"
     ]
    }
   ],
   "source": [
    "# Export first 5 rows for test\n",
    "export_table_to_db(aircraft_df.head(5), 'aircraft')\n",
    "\n",
    "# If the test succeeds, load the full data\n",
    "export_table_to_db(aircraft_df, 'aircraft')"
   ]
  },
  {
   "cell_type": "code",
   "execution_count": 10,
   "metadata": {},
   "outputs": [
    {
     "name": "stdout",
     "output_type": "stream",
     "text": [
      "Loading data into airport_weather...\n",
      "Data successfully loaded into airport_weather.\n",
      "Loading data into airport_weather...\n",
      "Data successfully loaded into airport_weather.\n"
     ]
    }
   ],
   "source": [
    "export_table_to_db(airport_weather_df.head(5), 'airport_weather')\n",
    "\n",
    "export_table_to_db(airport_weather_df, 'airport_weather')"
   ]
  },
  {
   "cell_type": "code",
   "execution_count": 11,
   "metadata": {},
   "outputs": [
    {
     "name": "stdout",
     "output_type": "stream",
     "text": [
      "Loading data into flight...\n",
      "Data successfully loaded into flight.\n",
      "Loading data into flight...\n",
      "Data successfully loaded into flight.\n"
     ]
    }
   ],
   "source": [
    "export_table_to_db(flight_df.head(5), 'flight')\n",
    "\n",
    "export_table_to_db(flight_df, 'flight')"
   ]
  },
  {
   "cell_type": "code",
   "execution_count": 12,
   "metadata": {},
   "outputs": [
    {
     "name": "stdout",
     "output_type": "stream",
     "text": [
      "Loading data into airport_list...\n",
      "Data successfully loaded into airport_list.\n",
      "Loading data into airport_list...\n",
      "Data successfully loaded into airport_list.\n"
     ]
    }
   ],
   "source": [
    "export_table_to_db(airport_list_df.head(5), 'airport_list')\n",
    "\n",
    "export_table_to_db(airport_list_df, 'airport_list')"
   ]
  }
 ],
 "metadata": {
  "kernelspec": {
   "display_name": "Python 3 (ipykernel)",
   "language": "python",
   "name": "python3"
  },
  "language_info": {
   "codemirror_mode": {
    "name": "ipython",
    "version": 3
   },
   "file_extension": ".py",
   "mimetype": "text/x-python",
   "name": "python",
   "nbconvert_exporter": "python",
   "pygments_lexer": "ipython3",
   "version": "3.11.5"
  },
  "vscode": {
   "interpreter": {
    "hash": "38d75d0df746d7f75dd34c5d1915af59cb55786647bd68b8d9064425d7680b12"
   }
  }
 },
 "nbformat": 4,
 "nbformat_minor": 2
}
