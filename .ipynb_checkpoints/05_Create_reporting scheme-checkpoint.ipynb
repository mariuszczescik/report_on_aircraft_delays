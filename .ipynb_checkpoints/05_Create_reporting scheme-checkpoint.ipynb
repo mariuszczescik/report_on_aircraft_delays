{
 "cells": [
  {
   "cell_type": "markdown",
   "metadata": {},
   "source": [
    " # Notebook description\n",
    "Preparing the database for reporting purposes. Flight delay percentage reporting areas:\n",
    "1. Displaying the TOP 10 (highest percentage of delays) airports based on the number of departures, displaying information about the number of arrivals - `top_airports_by_departure` view.  \n",
    "  2. Displaying the TOP 10 (highest percentage of delays) flight routes. Assumption: the minimum number of flights on the route is at least 10,000 flights - `top_reliability_roads` view.  \n",
    "  3. Comparison of 2019 vs. 2020 to track the impact of COVID on flight operations:\n",
    "      - month to month - `year_to_year_comparison` view,  \n",
    "      - day to day - `day_to_day_comparison` view.  \n",
    "  4. Daily aircraft flight delay rate."
   ]
  },
  {
   "cell_type": "markdown",
   "metadata": {},
   "source": [
    " # Technical approach to the problem\n",
    "The goal is to separate the data preparation layer (report logic) from the presentation layer (visualization).\n",
    "  The presentation layer (chart/report) does not implement business logic to process data."
   ]
  },
  {
   "cell_type": "markdown",
   "metadata": {},
   "source": [
    "# Preparing the database\n",
    "Creating a schema - `reporting`.  \n",
    "Creating views with report areas."
   ]
  },
  {
   "cell_type": "code",
   "execution_count": 1,
   "metadata": {},
   "outputs": [],
   "source": [
    "import psycopg2\n",
    "from psycopg2 import connect\n",
    "from sqlalchemy import create_engine\n",
    "from sqlalchemy.engine import URL\n",
    "import pandas as pd\n",
    "import numpy as np\n",
    "import matplotlib.pyplot as plt"
   ]
  },
  {
   "cell_type": "code",
   "execution_count": 2,
   "metadata": {},
   "outputs": [],
   "source": [
    "username = 'DB_ID'\n",
    "password = 'DB_PASS'\n",
    "host = 'localhost'\n",
    "database = 'airlines'\n",
    "port = 5432"
   ]
  },
  {
   "cell_type": "code",
   "execution_count": 5,
   "metadata": {},
   "outputs": [
    {
     "name": "stdout",
     "output_type": "stream",
     "text": [
      "The connection to the database has been established.\n"
     ]
    }
   ],
   "source": [
    "con = psycopg2.connect(\n",
    "        dbname=database,\n",
    "        user=username,\n",
    "        password=password,\n",
    "        host=host,\n",
    "        port=port\n",
    "    )\n",
    "cursor = con.cursor()\n",
    "print(\"The connection to the database has been established.\")\n",
    "\n",
    "con.rollback()"
   ]
  },
  {
   "cell_type": "code",
   "execution_count": 11,
   "metadata": {},
   "outputs": [],
   "source": [
    "# Loading the reporting.sql file\n",
    "file_path = './reporting.sql'\n",
    "\n",
    "with open(file_path, 'r') as file:\n",
    "    sql_reporting = file.read()"
   ]
  },
  {
   "cell_type": "code",
   "execution_count": 12,
   "metadata": {},
   "outputs": [],
   "source": [
    "# Dividing the script into individual queries\n",
    "queries = sql_reporting.split(';')\n",
    "queries = [query.strip() + ';' for query in queries if query.strip()]"
   ]
  },
  {
   "cell_type": "code",
   "execution_count": 13,
   "metadata": {},
   "outputs": [
    {
     "name": "stdout",
     "output_type": "stream",
     "text": [
      "A query has been performed: DROP SCHEMA IF EXISTS reporting CASCADE;\n",
      "A query has been performed: CREATE SCHEMA reporting;\n",
      "A query has been performed: CREATE OR REPLACE VIEW reporting.flight AS\n",
      "SELECT \n",
      "    *,\n",
      "    CASE \n",
      "        WHEN dep_delay_new > 0 THEN 1\n",
      "        ELSE 0 \n",
      "    END AS is_delayed\n",
      "FROM\n",
      "    public.flight\n",
      "WHERE\n",
      "    cancelled = 0;\n",
      "A query has been performed: CREATE OR REPLACE VIEW reporting.top_reliability_roads AS\n",
      "SELECT\n",
      "    rf.origin_airport_id,\n",
      "    al1.name AS origin_airport_name,\n",
      "    rf.dest_airport_id,\n",
      "    al2.name AS dest_airport_name,\n",
      "    rf.year,\n",
      "    COUNT(*) AS cnt,\n",
      "    ROUND(AVG(rf.is_delayed)::numeric, 2) AS reliability,\n",
      "    RANK() OVER (ORDER BY ROUND(AVG(rf.is_delayed)::numeric, 2) DESC) AS nb\n",
      "FROM\n",
      "    reporting.flight rf\n",
      "JOIN\n",
      "    airport_list al1 ON rf.origin_airport_id = al1.origin_airport_id\n",
      "JOIN\n",
      "    airport_list al2 ON rf.dest_airport_id = al2.origin_airport_id\n",
      "GROUP BY\n",
      "    rf.origin_airport_id,\n",
      "    al1.name,\n",
      "    rf.dest_airport_id,\n",
      "    al2.name,\n",
      "    rf.year\n",
      "HAVING\n",
      "    COUNT(*) > 10000\n",
      "ORDER BY\n",
      "    reliability DESC\n",
      "LIMIT 10;\n",
      "A query has been performed: CREATE OR REPLACE VIEW reporting.year_to_year_comparision AS\n",
      "SELECT\n",
      "    year,\n",
      "    month,\n",
      "    COUNT(*) AS flights_amount,\n",
      "    ROUND(AVG(CASE WHEN dep_delay_new > 0 THEN 1 ELSE 0 END)::numeric, 2) AS reliability\n",
      "FROM\n",
      "    public.flight\n",
      "GROUP BY\n",
      "    year,\n",
      "    month\n",
      "ORDER BY\n",
      "    year,\n",
      "    month;\n",
      "A query has been performed: CREATE OR REPLACE VIEW reporting.day_to_day_comparision AS\n",
      "SELECT\n",
      "    year,\n",
      "    day_of_week,\n",
      "    COUNT(*) AS flights_amount, \n",
      "    ROUND(AVG(CASE WHEN dep_delay_new > 0 THEN 1 ELSE 0 END)::numeric, 2) AS reliability  \n",
      "FROM\n",
      "    reporting.flight  \n",
      "GROUP BY\n",
      "    year, day_of_week\n",
      "ORDER BY\n",
      "    year, day_of_week;\n",
      "A query has been performed: CREATE OR REPLACE VIEW reporting.day_by_day_reliability AS\n",
      "SELECT\n",
      "    TO_DATE(year || '-' || LPAD(month::text, 2, '0') || '-' || LPAD(day_of_month::text, 2, '0'), 'YYYY-MM-DD') AS date,\n",
      "    ROUND(AVG(CASE WHEN dep_delay_new > 0 THEN 1 ELSE 0 END)::numeric, 2) AS reliability\n",
      "FROM\n",
      "    reporting.flight  \n",
      "GROUP BY\n",
      "    year, month, day_of_month\n",
      "ORDER BY\n",
      "    date;\n"
     ]
    }
   ],
   "source": [
    "# Execution of individual queries\n",
    "for query in queries:\n",
    "    try:\n",
    "        cursor.execute(query)\n",
    "        con.commit()  \n",
    "        print(\"A query has been performed:\", query)\n",
    "    except psycopg2.Error as e:\n",
    "        print(\"Error executing the query:\", query)\n",
    "        print(\"Error message:\", e)\n",
    "        con.rollback()  "
   ]
  },
  {
   "cell_type": "code",
   "execution_count": 14,
   "metadata": {},
   "outputs": [],
   "source": [
    "# Approval of all operations on the database, i.e. creation of views\n",
    "con.commit()"
   ]
  },
  {
   "cell_type": "code",
   "execution_count": 15,
   "metadata": {},
   "outputs": [],
   "source": [
    "# checking if views exist\n",
    "def check_if_table_exists(table_name):\n",
    "    msg = f\"I check if the table exists {table_name}\"\n",
    "    print(msg)\n",
    "\n",
    "    query = f\"select 1 from {table_name}\"\n",
    "    cursor.execute(query)\n",
    "    print('OK!')"
   ]
  },
  {
   "cell_type": "code",
   "execution_count": 16,
   "metadata": {},
   "outputs": [],
   "source": [
    "views_to_test = [\n",
    "    'reporting.flight',\n",
    "    'reporting.top_reliability_roads',\n",
    "    'reporting.year_to_year_comparision',\n",
    "    'reporting.day_to_day_comparision',\n",
    "    'reporting.day_by_day_reliability'\n",
    "]"
   ]
  },
  {
   "cell_type": "code",
   "execution_count": 17,
   "metadata": {},
   "outputs": [
    {
     "name": "stdout",
     "output_type": "stream",
     "text": [
      "I check if the table exists reporting.flight\n",
      "OK!\n",
      "I check if the table exists reporting.top_reliability_roads\n",
      "OK!\n",
      "I check if the table exists reporting.year_to_year_comparision\n",
      "OK!\n",
      "I check if the table exists reporting.day_to_day_comparision\n",
      "OK!\n",
      "I check if the table exists reporting.day_by_day_reliability\n",
      "OK!\n"
     ]
    }
   ],
   "source": [
    "for view in views_to_test:\n",
    "    check_if_table_exists(view)"
   ]
  },
  {
   "cell_type": "code",
   "execution_count": 18,
   "metadata": {},
   "outputs": [],
   "source": [
    "con.close()"
   ]
  }
 ],
 "metadata": {
  "kernelspec": {
   "display_name": "Python 3 (ipykernel)",
   "language": "python",
   "name": "python3"
  },
  "language_info": {
   "codemirror_mode": {
    "name": "ipython",
    "version": 3
   },
   "file_extension": ".py",
   "mimetype": "text/x-python",
   "name": "python",
   "nbconvert_exporter": "python",
   "pygments_lexer": "ipython3",
   "version": "3.11.5"
  },
  "vscode": {
   "interpreter": {
    "hash": "38d75d0df746d7f75dd34c5d1915af59cb55786647bd68b8d9064425d7680b12"
   }
  }
 },
 "nbformat": 4,
 "nbformat_minor": 2
}
