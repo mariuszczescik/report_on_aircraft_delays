{
 "cells": [
  {
   "cell_type": "markdown",
   "metadata": {},
   "source": [
    " # Description of the notebook\n",
    "\n",
    "In this notebook, I created a dedicated database with a table structure.\n",
    "\n",
    "File with database structure: `database_schema.sql`\n",
    "\n",
    "Database initialization done in notebook, not directly in Postgres."
   ]
  },
  {
   "cell_type": "code",
   "execution_count": 1,
   "metadata": {},
   "outputs": [],
   "source": [
    "import psycopg2\n",
    "import os\n",
    "from psycopg2 import connect\n",
    "from psycopg2.extensions import ISOLATION_LEVEL_AUTOCOMMIT\n",
    "import csv"
   ]
  },
  {
   "cell_type": "code",
   "execution_count": 2,
   "metadata": {},
   "outputs": [],
   "source": [
    "# connection configuration\n",
    "username = 'DB_ID'\n",
    "password = 'DB_PASS'\n",
    "host = 'localhost'\n",
    "database = 'airlines'\n",
    "default_database = 'postgres'\n",
    "port = 5432"
   ]
  },
  {
   "cell_type": "code",
   "execution_count": 3,
   "metadata": {},
   "outputs": [
    {
     "name": "stdout",
     "output_type": "stream",
     "text": [
      "The connection to the database has been established.\n"
     ]
    }
   ],
   "source": [
    "#Defining the `con` and `cursor` variables\n",
    "con = psycopg2.connect(\n",
    "        dbname=default_database,\n",
    "        user=username,\n",
    "        password=password,\n",
    "        host=host,\n",
    "        port=port\n",
    "    )\n",
    "cursor = con.cursor()\n",
    "print(\"The connection to the database has been established.\")\n",
    "\n",
    "con.set_isolation_level(ISOLATION_LEVEL_AUTOCOMMIT)  \n",
    "cursor = con.cursor()\n",
    "\n",
    "# Rollback of any current transactions that may have resulted in an error\n",
    "con.rollback()"
   ]
  },
  {
   "cell_type": "code",
   "execution_count": 9,
   "metadata": {},
   "outputs": [
    {
     "name": "stdout",
     "output_type": "stream",
     "text": [
      "The 'airlines' database has been created.\n"
     ]
    }
   ],
   "source": [
    "# creating a database\n",
    "cursor.execute(\"DROP DATABASE IF EXISTS airlines;\")\n",
    "cursor.execute(\"CREATE DATABASE airlines;\")\n",
    "print(\"The 'airlines' database has been created.\")"
   ]
  },
  {
   "cell_type": "code",
   "execution_count": 10,
   "metadata": {},
   "outputs": [],
   "source": [
    "#  Loading the database schema.sql file\n",
    "file_path = './database_schema.sql'\n",
    "\n",
    "with open(file_path, 'r') as file:\n",
    "    sql_schema = file.read()"
   ]
  },
  {
   "cell_type": "code",
   "execution_count": 11,
   "metadata": {},
   "outputs": [],
   "source": [
    "# splitting the contents of the `database schema.sql` file into smaller queries using `;`\n",
    "queries = sql_schema.split(';')\n",
    "queries = [query.strip() + ';' for query in queries if query.strip()]"
   ]
  },
  {
   "cell_type": "code",
   "execution_count": 12,
   "metadata": {},
   "outputs": [],
   "source": [
    "# Execution of each query\n",
    "for query in queries:\n",
    "    if query:\n",
    "        cursor.execute(query)"
   ]
  },
  {
   "cell_type": "code",
   "execution_count": 13,
   "metadata": {},
   "outputs": [],
   "source": [
    "# Confirmation of all database operations, i.e. creation of tables\n",
    "con.commit()"
   ]
  },
  {
   "cell_type": "code",
   "execution_count": 14,
   "metadata": {},
   "outputs": [],
   "source": [
    "# Checking whether the databases have been added correctly\n",
    "\n",
    "def check_if_table_exists(table_name):\n",
    "    msg = f\"I check if the table exists {table_name}\"\n",
    "    print(msg)\n",
    "\n",
    "    query = f\"select 1 from {table_name}\"\n",
    "    cursor.execute(query)\n",
    "    print('OK!')\n"
   ]
  },
  {
   "cell_type": "code",
   "execution_count": 15,
   "metadata": {},
   "outputs": [],
   "source": [
    "tables_to_test = [\n",
    "    'aircraft',\n",
    "    'airport_weather',\n",
    "    'flight',\n",
    "    'airport_list'\n",
    "]"
   ]
  },
  {
   "cell_type": "code",
   "execution_count": 16,
   "metadata": {},
   "outputs": [
    {
     "name": "stdout",
     "output_type": "stream",
     "text": [
      "I check if the table exists aircraft\n",
      "OK!\n",
      "I check if the table exists airport_weather\n",
      "OK!\n",
      "I check if the table exists flight\n",
      "OK!\n",
      "I check if the table exists airport_list\n",
      "OK!\n"
     ]
    }
   ],
   "source": [
    "for table in tables_to_test:\n",
    "    check_if_table_exists(table)"
   ]
  },
  {
   "cell_type": "code",
   "execution_count": 17,
   "metadata": {},
   "outputs": [],
   "source": [
    "con.close()"
   ]
  }
 ],
 "metadata": {
  "kernelspec": {
   "display_name": "Python 3 (ipykernel)",
   "language": "python",
   "name": "python3"
  },
  "language_info": {
   "codemirror_mode": {
    "name": "ipython",
    "version": 3
   },
   "file_extension": ".py",
   "mimetype": "text/x-python",
   "name": "python",
   "nbconvert_exporter": "python",
   "pygments_lexer": "ipython3",
   "version": "3.11.5"
  },
  "vscode": {
   "interpreter": {
    "hash": "38d75d0df746d7f75dd34c5d1915af59cb55786647bd68b8d9064425d7680b12"
   }
  }
 },
 "nbformat": 4,
 "nbformat_minor": 2
}
